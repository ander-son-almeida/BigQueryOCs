{
 "cells": [
  {
   "cell_type": "code",
   "execution_count": 1,
   "id": "530a69ad",
   "metadata": {},
   "outputs": [],
   "source": [
    "from google.cloud import bigquery\n",
    "from google.oauth2 import service_account\n",
    "import matplotlib.pyplot as plt\n",
    "from astropy import units as u\n",
    "from astropy.coordinates import SkyCoord\n",
    "from astropy.coordinates import  FK4\n",
    "import astropy.coordinates as coord\n",
    "import pandas as pd\n",
    "import numpy as np\n",
    "import plotly.graph_objects as go\n",
    "from ipywidgets import interact\n",
    "from statsmodels.nonparametric.smoothers_lowess import lowess\n",
    "from IPython.display import Image"
   ]
  },
  {
   "cell_type": "code",
   "execution_count": null,
   "id": "0100211a",
   "metadata": {},
   "outputs": [],
   "source": [
    "# configs\n",
    "dir = r'S:\\Área de Trabalho\\Artigo Massa DR3\\BigQuery\\gaia-316800-e305ca62954b.json'\n",
    "project_name = 'gaia-316800'"
   ]
  },
  {
   "cell_type": "code",
   "execution_count": null,
   "id": "7eda9740",
   "metadata": {},
   "outputs": [],
   "source": [
    "# run client\n",
    "credentials = service_account.Credentials.from_service_account_file(dir)\n",
    "client = bigquery.Client(credentials=credentials, project=project_name)"
   ]
  },
  {
   "cell_type": "code",
   "execution_count": null,
   "id": "afc42666",
   "metadata": {},
   "outputs": [],
   "source": [
    "# query fundamental parameters\n",
    "query_parameters = '''\n",
    "SELECT Cluster, RA_ICRS, DE_ICRS, dist, age, Av, alpha_high_int, \n",
    "alpha_low_int, Mc_int, mass_total, bin_frac, mass_seg, mass_seg_pval, r95\n",
    "FROM gaia-316800.fundamental_parameters.OCs_intergrated_mf\n",
    "'''"
   ]
  },
  {
   "cell_type": "code",
   "execution_count": null,
   "id": "3000b637",
   "metadata": {},
   "outputs": [],
   "source": [
    "query_job = client.query(query_parameters)\n",
    "clusters = query_job.to_dataframe()"
   ]
  },
  {
   "cell_type": "code",
   "execution_count": null,
   "id": "5e739fb6",
   "metadata": {},
   "outputs": [],
   "source": [
    "# SkyCoord astropy\n",
    "\n",
    "sc = SkyCoord(ra=(clusters['RA_ICRS'])*u.deg, dec=(clusters['DE_ICRS'])*u.deg, \n",
    "              distance=(clusters['dist'])*u.kpc, frame=FK4, obstime=\"J2000\")\n"
   ]
  },
  {
   "cell_type": "code",
   "execution_count": null,
   "id": "f32be55d",
   "metadata": {},
   "outputs": [],
   "source": [
    "fig = go.Figure()\n",
    "\n",
    "fig.add_trace(go.Scatter(\n",
    "    x=sc.galactic.l.wrap_at(180*u.deg).radian, \n",
    "    y=sc.galactic.b.radian, \n",
    "    mode='markers',\n",
    "    marker=dict(\n",
    "        size=6,\n",
    "        color=clusters['dist'],\n",
    "        opacity=0.5,\n",
    "        symbol='circle',\n",
    "        colorscale='Viridis',\n",
    "        showscale=True,\n",
    "        colorbar=dict(title='log(age)')\n",
    "    )\n",
    "))\n",
    "\n",
    "fig.update_layout(\n",
    "    xaxis=dict(title='Galactic Longitude (Degrees)'),\n",
    "    yaxis=dict(title='Galactic latitude (Degrees)'),\n",
    ")"
   ]
  },
  {
   "cell_type": "markdown",
   "id": "81296d06",
   "metadata": {},
   "source": [
    "To contemplate the spatial distribution of clusters in our galaxy, we have this graph that was obtained in galactic coordinates using the numpy library.\n",
    "\n",
    "To compose the agglomerates was used use of the high-quality membership of individual stars determined by the method described in detail in [Monteiro et al. (2020)](https://ui.adsabs.harvard.edu/abs/2020MNRAS.499.1874M/abstract) as well as determined fundamental parameters of open clusters as described in  [Dias et al. (2021)](https://ui.adsabs.harvard.edu/abs/2021MNRAS.504..356D/abstract) (and references therein) all applied to the high precision Gaia eDR3 data. With this information, we use a Monte-Carlo method that compares synthetic generated clusters to the observed ones to determine the properties of member stars based on a given set of theoretical isochrones. In this work, we use the Padova PARSEC version 1.2S database of stellar evolutionary tracks and isochrones [Bressan et al. 2012](https://ui.adsabs.harvard.edu/abs/2012MNRAS.427..127B/abstract), which is scaled to solar metal content with $Z_{\\odot} = 0.0152$."
   ]
  },
  {
   "cell_type": "code",
   "execution_count": 4,
   "id": "de8b4911",
   "metadata": {},
   "outputs": [
    {
     "data": {
      "text/html": [
       "<img src=\"https://raw.githubusercontent.com/ander-son-almeida/BigQueryOCs/main/imgs/galact_coord.png\"/>"
      ],
      "text/plain": [
       "<IPython.core.display.Image object>"
      ]
     },
     "execution_count": 4,
     "metadata": {},
     "output_type": "execute_result"
    }
   ],
   "source": [
    "Image(url=\"https://raw.githubusercontent.com/ander-son-almeida/BigQueryOCs/main/imgs/galact_coord.png\")"
   ]
  },
  {
   "cell_type": "code",
   "execution_count": null,
   "id": "853f6114",
   "metadata": {},
   "outputs": [],
   "source": [
    "ind = (clusters['mass_seg_pval'] < 0.05)\n",
    "\n",
    "X = np.log10(clusters['mass_total'][ind]).reset_index(drop=True)\n",
    "Y = clusters['mass_seg'][ind].reset_index(drop=True)\n",
    "\n",
    "# LOWESS curve\n",
    "lowess_fit = lowess(Y, X)\n",
    "\n",
    "# Calculate the mean and standard deviation\n",
    "mean = lowess_fit[:, 1]\n",
    "std = np.std(Y - lowess_fit[:, 1])\n",
    "\n",
    "fig = go.Figure()\n",
    "\n",
    "fig.add_trace(go.Scatter(x=lowess_fit[:, 0], \n",
    "                         y=lowess_fit[:, 1], mode='lines', line=dict(color='red'),\n",
    "                         name='LOWESS'))\n",
    "\n",
    "fig.add_trace(go.Scatter(x=lowess_fit[:, 0], \n",
    "                         y=mean - std, mode='lines', fill=None, \n",
    "                         line=dict(color='gray'), name='lower STD'))\n",
    "\n",
    "fig.add_trace(go.Scatter(x=lowess_fit[:, 0],\n",
    "                         y=mean + std, mode='lines', fill='tonexty', \n",
    "                         line=dict(color='gray'), name='upper STD'))\n",
    "\n",
    "fig.add_trace(go.Scatter(x=X, y=Y, mode='markers', name= 'Clusters', marker=dict(\n",
    "        size=8,\n",
    "        color=clusters['dist'],\n",
    "        opacity=1.0,\n",
    "        symbol='circle',\n",
    "        colorscale='Inferno',\n",
    "        showscale=True,\n",
    "        colorbar=dict(title='Dist.(kpc)', orientation='h'))))\n",
    "\n",
    "fig.update_layout(\n",
    "    xaxis=dict(title='log(age)'),\n",
    "    yaxis=dict(title='KS test'),\n",
    ")"
   ]
  },
  {
   "cell_type": "code",
   "execution_count": 5,
   "id": "4a0c1340",
   "metadata": {},
   "outputs": [
    {
     "data": {
      "text/html": [
       "<img src=\"https://raw.githubusercontent.com/ander-son-almeida/BigQueryOCs/main/imgs/lowess_curve.png\"/>"
      ],
      "text/plain": [
       "<IPython.core.display.Image object>"
      ]
     },
     "execution_count": 5,
     "metadata": {},
     "output_type": "execute_result"
    }
   ],
   "source": [
    "Image(url=\"https://raw.githubusercontent.com/ander-son-almeida/BigQueryOCs/main/imgs/lowess_curve.png\")"
   ]
  },
  {
   "cell_type": "markdown",
   "id": "de7d4b56",
   "metadata": {},
   "source": [
    "Relationships that can generate insights into the galaxy were investigated. A sub sample based on the significance level of the Kolmogorov-Smirnov measure, taking only those clusters for which the distributions showed differences with a p-value lower than 0.05. The only parameter for which a significant correlation was observed was cluster total mass. The correlation for this parameter using the high significance sub sample is shown graphic, where a trend line based on a LOWESS regression is shown with its respective uncertainty according to the standard deviation."
   ]
  },
  {
   "cell_type": "code",
   "execution_count": null,
   "id": "6bc7b317",
   "metadata": {},
   "outputs": [],
   "source": [
    "fig = go.Figure()\n",
    "\n",
    "fig.add_trace(go.Scatter(x = clusters['bin_frac'], \n",
    "                         y = clusters['dist'], mode='markers', name= 'Clusters', \n",
    "        marker=dict(\n",
    "        size=(1/np.array([float(m) for m in clusters['mass_total']]))*260,\n",
    "        sizemode='diameter',\n",
    "        sizeref=0.1,\n",
    "        color=clusters['dist'],\n",
    "        opacity=0.8,\n",
    "        symbol='circle',\n",
    "        colorscale='Viridis',\n",
    "        showscale=True,\n",
    "        colorbar=dict(title='Dist.(kpc)', orientation='h'))))\n",
    "\n",
    "fig.update_layout(\n",
    "    xaxis=dict(title='Binary Fraction'),\n",
    "    yaxis=dict(title='log(age)'),\n",
    ")"
   ]
  },
  {
   "cell_type": "code",
   "execution_count": 6,
   "id": "3a074f4a",
   "metadata": {},
   "outputs": [
    {
     "data": {
      "text/html": [
       "<img src=\"https://raw.githubusercontent.com/ander-son-almeida/BigQueryOCs/main/imgs/bin_fraction.png\"/>"
      ],
      "text/plain": [
       "<IPython.core.display.Image object>"
      ]
     },
     "execution_count": 6,
     "metadata": {},
     "output_type": "execute_result"
    }
   ],
   "source": [
    "Image(url=\"https://raw.githubusercontent.com/ander-son-almeida/BigQueryOCs/main/imgs/bin_fraction.png\")"
   ]
  },
  {
   "cell_type": "markdown",
   "id": "ab0bcc1e",
   "metadata": {},
   "source": [
    "With our database we can see a clear overestimation of the binary fraction with the increase of both distance and extinction as well as age. For clusters with log(age) < 9.0 and distance smaller than about 2.5 Kpc, the overestimation is about 20\\%. This effect is a result mainly of the increased uncertainty in the fainter magnitudes and the smaller sampling of the main sequence region for clusters at higher ages and distances."
   ]
  }
 ],
 "metadata": {
  "kernelspec": {
   "display_name": "Python 3 (ipykernel)",
   "language": "python",
   "name": "python3"
  },
  "language_info": {
   "codemirror_mode": {
    "name": "ipython",
    "version": 3
   },
   "file_extension": ".py",
   "mimetype": "text/x-python",
   "name": "python",
   "nbconvert_exporter": "python",
   "pygments_lexer": "ipython3",
   "version": "3.10.6"
  }
 },
 "nbformat": 4,
 "nbformat_minor": 5
}
